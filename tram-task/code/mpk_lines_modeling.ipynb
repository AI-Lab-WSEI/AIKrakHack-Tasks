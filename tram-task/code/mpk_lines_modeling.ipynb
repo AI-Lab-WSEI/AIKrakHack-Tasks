{
 "cells": [
  {
   "cell_type": "code",
   "execution_count": 10,
   "metadata": {},
   "outputs": [],
   "source": [
    "import folium\n",
    "import matplotlib.pyplot as plt\n",
    "\n",
    "from sourcing_data import TramData, OpenStreetMapData"
   ]
  },
  {
   "cell_type": "code",
   "execution_count": null,
   "metadata": {},
   "outputs": [],
   "source": [
    "tram_data = TramData()\n",
    "osm_data = OpenStreetMapData()"
   ]
  },
  {
   "cell_type": "markdown",
   "metadata": {},
   "source": [
    "### Visualisations of the trams routes"
   ]
  },
  {
   "cell_type": "code",
   "execution_count": null,
   "metadata": {},
   "outputs": [],
   "source": [
    "LINE = 18 \n",
    "\n",
    "coordinates = list(tram_data.lines_df[tram_data.lines_df.index == LINE]['coordinates'])[0]\n",
    "map_obj = folium.Map(location=[coordinates[0][0], coordinates[0][1]], zoom_start=13)\n",
    "\n",
    "for point in coordinates:\n",
    "    stop_name = [\n",
    "        stop for stop, metadata in tram_data.stops_data.items()\n",
    "        if metadata['latitude'] == point[0] and metadata['longitude'] == point[1]\n",
    "    ][0]\n",
    "    folium.Marker(\n",
    "        location=[point[0], point[1]],\n",
    "        popup=f\"{stop_name}\",\n",
    "        icon=folium.Icon(color=\"blue\")\n",
    "    ).add_to(map_obj)\n",
    "\n",
    "coordinates_line = [[point[0], point[1]] for point in coordinates]\n",
    "folium.PolyLine(coordinates_line, color=\"blue\", weight=2.5, opacity=1).add_to(map_obj)\n",
    "map_obj\n"
   ]
  },
  {
   "cell_type": "code",
   "execution_count": null,
   "metadata": {},
   "outputs": [],
   "source": [
    "tram_data.stops_df"
   ]
  },
  {
   "cell_type": "markdown",
   "metadata": {},
   "source": [
    "### Visualisations of the city streets & buildings"
   ]
  },
  {
   "cell_type": "code",
   "execution_count": null,
   "metadata": {},
   "outputs": [],
   "source": [
    "fig, ax = plt.subplots(figsize=(15, 15))\n",
    "\n",
    "if not osm_data.streets_df.empty:\n",
    "    osm_data.streets_df.plot(ax=ax, color=\"lightblue\", linewidth=0.9, alpha=0.4, label=\"Streets\")\n",
    "\n",
    "ax.set_title(f\"Streets in {osm_data.place}\", fontsize=14)\n",
    "plt.xlabel(\"Longitude\")\n",
    "plt.ylabel(\"Latitude\")\n",
    "plt.show()"
   ]
  },
  {
   "cell_type": "code",
   "execution_count": null,
   "metadata": {},
   "outputs": [],
   "source": [
    "fig, ax = plt.subplots(figsize=(15, 15))\n",
    "\n",
    "if not osm_data.buildings_df.empty:\n",
    "    osm_data.buildings_df.plot(ax=ax, color=\"gray\", edgecolor=\"black\", alpha=0.7, label=\"Buildings\")\n",
    "\n",
    "ax.set_title(f\"Buildings in {osm_data.place}\", fontsize=14)\n",
    "plt.xlabel(\"Longitude\")\n",
    "plt.ylabel(\"Latitude\")\n",
    "plt.show()"
   ]
  },
  {
   "cell_type": "markdown",
   "metadata": {},
   "source": [
    "### Your solution"
   ]
  },
  {
   "cell_type": "code",
   "execution_count": null,
   "metadata": {},
   "outputs": [],
   "source": []
  }
 ],
 "metadata": {
  "kernelspec": {
   "display_name": "Python 3",
   "language": "python",
   "name": "python3"
  },
  "language_info": {
   "codemirror_mode": {
    "name": "ipython",
    "version": 3
   },
   "file_extension": ".py",
   "mimetype": "text/x-python",
   "name": "python",
   "nbconvert_exporter": "python",
   "pygments_lexer": "ipython3",
   "version": "3.12.7"
  }
 },
 "nbformat": 4,
 "nbformat_minor": 2
}
